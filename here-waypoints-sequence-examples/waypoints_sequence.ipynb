{
 "cells": [
  {
   "cell_type": "code",
   "execution_count": null,
   "metadata": {},
   "outputs": [],
   "source": [
    "import folium\n",
    "import json\n",
    "import requests\n",
    "import config"
   ]
  },
  {
   "cell_type": "markdown",
   "metadata": {},
   "source": [
    "### Source"
   ]
  },
  {
   "cell_type": "code",
   "execution_count": null,
   "metadata": {},
   "outputs": [],
   "source": [
    "points = {\n",
    "    \"a\": \"Европейский проспект;59.897584,30.512745\",\n",
    "    \"b\": \"поселок Новосергиевка;59.906159,30.556786\",\n",
    "    \"c\": \"Лондон молл;59.911953,30.446354\",\n",
    "    \"d\": \"метро Дыбенко;59.907063,30.483070\"\n",
    "    }"
   ]
  },
  {
   "cell_type": "markdown",
   "metadata": {},
   "source": [
    "### Tiles"
   ]
  },
  {
   "cell_type": "code",
   "execution_count": null,
   "metadata": {},
   "outputs": [],
   "source": [
    "def here_tiles(**kwdict):\n",
    "    \"\"\"\n",
    "    Return a HERE map tiles URL, based on default values that can be \n",
    "    overwritten by kwdict.\n",
    "    \"\"\"\n",
    "    params = dict(\n",
    "        app_id     = config.appid,\n",
    "        app_code   = config.appcode,\n",
    "        scheme     = 'reduced.day',\n",
    "        tilesize   = '256',\n",
    "        tileformat = 'png8',\n",
    "        lg         = 'rus',\n",
    "        x          = '{x}',\n",
    "        y          = '{y}',\n",
    "        z          = '{z}',\n",
    "        )\n",
    "\n",
    "    params.update(kwdict)\n",
    "\n",
    "    url = (\n",
    "        'https://2.base.maps.api.here.com/maptile/2.1/maptile/newest/{scheme}/'\n",
    "        '{z}/{x}/{y}/{tilesize}/{tileformat}'\n",
    "        '?lg={lg}&app_id={app_id}&app_code={app_code}'\n",
    "        ).format(**params)\n",
    "    return url"
   ]
  },
  {
   "cell_type": "markdown",
   "metadata": {},
   "source": [
    "### Waypoint Sequence"
   ]
  },
  {
   "cell_type": "code",
   "execution_count": null,
   "metadata": {},
   "outputs": [],
   "source": [
    "def get_waypoints(points):\n",
    "    \"\"\"\n",
    "    Return points in optimal order.\n",
    "    \"\"\"\n",
    "    params = {\n",
    "        \"app_id\": config.appid,\n",
    "        \"app_code\": config.appcode,\n",
    "        \"start\": points[\"a\"],\n",
    "        \"destination1\": points[\"b\"],\n",
    "        \"destination2\": points[\"c\"],\n",
    "        \"end\": points[\"d\"],\n",
    "        \"mode\": \"fastest;car\"\n",
    "        }\n",
    "    \n",
    "    url = 'https://wse.api.here.com/2/findsequence.json'\n",
    "    \n",
    "    response = requests.get(url, params=params)\n",
    "    waypoints = response.json()\n",
    "    \n",
    "    return waypoints  "
   ]
  },
  {
   "cell_type": "markdown",
   "metadata": {},
   "source": [
    "### Route"
   ]
  },
  {
   "cell_type": "code",
   "execution_count": null,
   "metadata": {},
   "outputs": [],
   "source": [
    "def get_route(waypoints):\n",
    "    \"\"\"\n",
    "    Return a road with all geometry.\n",
    "    \"\"\"\n",
    "    waypoint0 = '{0},{1}'.format(\n",
    "                            waypoints[\"results\"][0][\"waypoints\"][0][\"lat\"],\n",
    "                            waypoints[\"results\"][0][\"waypoints\"][0][\"lng\"]\n",
    "                            )\n",
    "    waypoint1 = '{0},{1}'.format(\n",
    "                            waypoints[\"results\"][0][\"waypoints\"][1][\"lat\"],\n",
    "                            waypoints[\"results\"][0][\"waypoints\"][1][\"lng\"]\n",
    "                            )\n",
    "    waypoint2 = '{0},{1}'.format(\n",
    "                            waypoints[\"results\"][0][\"waypoints\"][2][\"lat\"],\n",
    "                            waypoints[\"results\"][0][\"waypoints\"][2][\"lng\"]\n",
    "                            )\n",
    "    waypoint3 = '{0},{1}'.format(\n",
    "                            waypoints[\"results\"][0][\"waypoints\"][3][\"lat\"],\n",
    "                            waypoints[\"results\"][0][\"waypoints\"][3][\"lng\"]\n",
    "                            )\n",
    "    \n",
    "    params = {\n",
    "        \"app_id\": config.appid,\n",
    "        \"app_code\": config.appcode,\n",
    "        \"waypoint0\": waypoint0,\n",
    "        \"waypoint1\": waypoint1,\n",
    "        \"waypoint2\": waypoint2,\n",
    "        \"waypoint3\": waypoint3,\n",
    "        \"mode\": \"fastest;car;traffic:enabled\",\n",
    "        \"representation\": \"display\"\n",
    "        }\n",
    "\n",
    "    url = 'https://route.api.here.com/routing/7.2/calculateroute.json'\n",
    "    \n",
    "    response = requests.get(url, params=params)\n",
    "    route = response.json()\n",
    "    \n",
    "    return route"
   ]
  },
  {
   "cell_type": "markdown",
   "metadata": {},
   "source": [
    "## Map initializing"
   ]
  },
  {
   "cell_type": "code",
   "execution_count": null,
   "metadata": {},
   "outputs": [],
   "source": [
    "# Build a HERE tiles\n",
    "tiles = here_tiles()\n",
    "\n",
    "# Initialize the map object\n",
    "map = folium.Map(\n",
    "        location=[59.925658, 30.331779],  \n",
    "        zoom_start=11, \n",
    "        tiles=tiles, \n",
    "        attr='here.com'\n",
    "        )"
   ]
  },
  {
   "cell_type": "markdown",
   "metadata": {},
   "source": [
    "## Route to line"
   ]
  },
  {
   "cell_type": "code",
   "execution_count": null,
   "metadata": {},
   "outputs": [],
   "source": [
    "# Build of a route based on waypoints data\n",
    "route = get_route(get_waypoints(points))\n",
    "\n",
    "# Build of a line for represent a route on the map\n",
    "line = []\n",
    "\n",
    "for leg in route[\"response\"][\"route\"][0][\"leg\"]:\n",
    "    for shape in leg[\"maneuver\"]:\n",
    "        for point in shape[\"shape\"]:\n",
    "            mpoint = point.split(',')\n",
    "            line.append([float(mpoint[0]), float(mpoint[1])])"
   ]
  },
  {
   "cell_type": "markdown",
   "metadata": {},
   "source": [
    "## Route on the map"
   ]
  },
  {
   "cell_type": "code",
   "execution_count": null,
   "metadata": {},
   "outputs": [],
   "source": [
    "# Just an icon\n",
    "iurl = 'https://img.icons8.com/plasticine/100/000000/gps-device.png'\n",
    "\n",
    "# Add points to map\n",
    "for point in points.values():\n",
    "    point = str(point.split(';')[1]).split(',')\n",
    "    point = [float(point[0]), float(point[1])]\n",
    "    folium.Marker(point, icon=folium.features.CustomIcon(iurl, icon_size=(35,35))).add_to(map)\n",
    "\n",
    "# Route to the map\n",
    "folium.PolyLine(line, color=\"green\", weight=6, opacity=1).add_to(map)\n",
    "\n",
    "# Show the map\n",
    "map"
   ]
  },
  {
   "cell_type": "code",
   "execution_count": null,
   "metadata": {},
   "outputs": [],
   "source": []
  }
 ],
 "metadata": {
  "kernelspec": {
   "display_name": "Python 3",
   "language": "python",
   "name": "python3"
  },
  "language_info": {
   "codemirror_mode": {
    "name": "ipython",
    "version": 3
   },
   "file_extension": ".py",
   "mimetype": "text/x-python",
   "name": "python",
   "nbconvert_exporter": "python",
   "pygments_lexer": "ipython3",
   "version": "3.7.3"
  }
 },
 "nbformat": 4,
 "nbformat_minor": 2
}
