{
 "cells": [
  {
   "cell_type": "code",
   "execution_count": 1,
   "metadata": {},
   "outputs": [],
   "source": [
    "import folium\n",
    "import json\n",
    "import requests"
   ]
  },
  {
   "cell_type": "code",
   "execution_count": 2,
   "metadata": {},
   "outputs": [],
   "source": [
    "def hereTilesUrl(**kwdict):\n",
    "    \"\"\"\n",
    "    Return a HERE map tiles URL, based on default values that can be \n",
    "    overwritten by kwdict.\n",
    "    \"\"\"\n",
    "    params = dict(app_id     = \"Your app id\",\n",
    "                  app_code   = \"Your app code\",\n",
    "                  scheme     = 'reduced.day',\n",
    "                  tilesize   = '256',\n",
    "                  tileformat = 'png8',\n",
    "                  lg         = 'rus',\n",
    "                  x          = '{x}',\n",
    "                  y          = '{y}',\n",
    "                  z          = '{z}',)\n",
    "\n",
    "    params.update(kwdict)\n",
    "\n",
    "    url = ('https://2.base.maps.api.here.com/maptile/2.1/maptile/newest/{scheme}/'\n",
    "           '{z}/{x}/{y}/{tilesize}/{tileformat}'\n",
    "           '?lg={lg}&app_id={app_id}&app_code={app_code}'\n",
    "            ).format(**params)\n",
    "    return url"
   ]
  },
  {
   "cell_type": "code",
   "execution_count": 107,
   "metadata": {},
   "outputs": [],
   "source": [
    "def getCustomLocations(loc,rad,layer):\n",
    "    \"\"\"\n",
    "    Return all points for layer\n",
    "    from Custom Location API.\n",
    "    \"\"\"\n",
    "    params = {\"app_id\": \"Your app id\",\n",
    "              \"app_code\": \"Your app code\",\n",
    "              \"proximity\": \"{0},{1}\".format(loc,rad),\n",
    "              \"layer_ids\": layer}\n",
    "    \n",
    "    url = 'https://cle.api.here.com/2/search/proximity.json'\n",
    "    \n",
    "    respond = requests.get(url, params=params)\n",
    "    jdata = respond.json()\n",
    "    points = list()\n",
    "    for item in jdata[\"geometries\"]:\n",
    "        mpoint = item[\"geometry\"]\n",
    "        mpoint = str(str(mpoint.split('((')[1]).split('))')[0])\n",
    "        mpoint = mpoint.split(' ')\n",
    "        points.append([float(mpoint[1]),float(mpoint[0])])\n",
    "    return points\n",
    "    "
   ]
  },
  {
   "cell_type": "code",
   "execution_count": null,
   "metadata": {},
   "outputs": [],
   "source": [
    "# Create a HERE tiles\n",
    "tiles_url = hereTilesUrl()\n",
    "\n",
    "# Initialize the map object\n",
    "map = folium.Map(location=[59.925658, 30.331779],  \n",
    "               zoom_start=11, \n",
    "               tiles=tiles_url, \n",
    "               attr='here.com'\n",
    "               )\n",
    "\n",
    "# Get all locations for layer from Custom Locations API\n",
    "locations = getCustomLocations('59.925658, 30.331779',10000,'TEST_LAYER')\n",
    "\n",
    "# Just an icon\n",
    "iurl = 'https://img.icons8.com/doodle/48/000000/building--v2.png'\n",
    "\n",
    "# Add points to map\n",
    "for i in locations:\n",
    "    folium.Marker(i, icon=folium.features.CustomIcon(iurl, icon_size=(35,35))).add_to(map)\n",
    "\n",
    "# Show the map    \n",
    "map"
   ]
  },
  {
   "cell_type": "code",
   "execution_count": 112,
   "metadata": {},
   "outputs": [],
   "source": [
    "# Create a HERE tiles\n",
    "tiles_url = hereTilesUrl()"
   ]
  },
  {
   "cell_type": "code",
   "execution_count": 113,
   "metadata": {},
   "outputs": [],
   "source": [
    "# Initialize the map object\n",
    "map = folium.Map(location=[59.925658, 30.331779],  \n",
    "               zoom_start=11, \n",
    "               tiles=tiles_url, \n",
    "               attr='here.com'\n",
    "               )"
   ]
  },
  {
   "cell_type": "code",
   "execution_count": 114,
   "metadata": {},
   "outputs": [],
   "source": [
    "# Get all locations for layer from Custom Locations API\n",
    "locations = getCustomLocations('59.925658, 30.331779',10000,'TEST_LAYER')"
   ]
  },
  {
   "cell_type": "code",
   "execution_count": 115,
   "metadata": {},
   "outputs": [
    {
     "data": {
      "text/html": [
       "<div style=\"width:100%;\"><div style=\"position:relative;width:100%;height:0;padding-bottom:60%;\"><iframe src=\"data:text/html;charset=utf-8;base64,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\" style=\"position:absolute;width:100%;height:100%;left:0;top:0;border:none !important;\" allowfullscreen webkitallowfullscreen mozallowfullscreen></iframe></div></div>"
      ],
      "text/plain": [
       "<folium.folium.Map at 0x6246c50>"
      ]
     },
     "execution_count": 115,
     "metadata": {},
     "output_type": "execute_result"
    }
   ],
   "source": [
    "# Just an icon\n",
    "iurl = 'https://img.icons8.com/doodle/48/000000/building--v2.png'\n",
    "\n",
    "# Add points to map\n",
    "for i in locations:\n",
    "    folium.Marker(i, icon=folium.features.CustomIcon(iurl, icon_size=(35,35))).add_to(map)\n",
    "\n",
    "# Show the map    \n",
    "map"
   ]
  }
 ],
 "metadata": {
  "kernelspec": {
   "display_name": "Python 3",
   "language": "python",
   "name": "python3"
  },
  "language_info": {
   "codemirror_mode": {
    "name": "ipython",
    "version": 3
   },
   "file_extension": ".py",
   "mimetype": "text/x-python",
   "name": "python",
   "nbconvert_exporter": "python",
   "pygments_lexer": "ipython3",
   "version": "3.7.3"
  }
 },
 "nbformat": 4,
 "nbformat_minor": 2
}
