{
 "cells": [
  {
   "cell_type": "code",
   "execution_count": 1,
   "metadata": {},
   "outputs": [],
   "source": [
    "import folium\n",
    "import json\n",
    "import requests"
   ]
  },
  {
   "cell_type": "code",
   "execution_count": 2,
   "metadata": {},
   "outputs": [],
   "source": [
    "def hereTilesUrl(**kwdict):\n",
    "    \"\"\"\n",
    "    Return a HERE map tiles URL, based on default values that can be \n",
    "    overwritten by kwdict.\n",
    "    \"\"\"\n",
    "    params = dict(app_id     = \"Your app id\",\n",
    "                  app_code   = \"Your app code\",\n",
    "                  scheme     = 'reduced.day',\n",
    "                  tilesize   = '256',\n",
    "                  tileformat = 'png8',\n",
    "                  lg         = 'rus',\n",
    "                  x          = '{x}',\n",
    "                  y          = '{y}',\n",
    "                  z          = '{z}',)\n",
    "\n",
    "    params.update(kwdict)\n",
    "\n",
    "    url = ('https://2.base.maps.api.here.com/maptile/2.1/maptile/newest/{scheme}/'\n",
    "           '{z}/{x}/{y}/{tilesize}/{tileformat}'\n",
    "           '?lg={lg}&app_id={app_id}&app_code={app_code}'\n",
    "            ).format(**params)\n",
    "    return url"
   ]
  },
  {
   "cell_type": "code",
   "execution_count": 107,
   "metadata": {},
   "outputs": [],
   "source": [
    "def getCustomLocations(loc,rad,layer):\n",
    "    \"\"\"\n",
    "    Return all points for layer\n",
    "    from Custom Location API.\n",
    "    \"\"\"\n",
    "    params = {\"app_id\": \"Your app id\",\n",
    "              \"app_code\": \"Your app code\",\n",
    "              \"proximity\": \"{0},{1}\".format(loc,rad),\n",
    "              \"layer_ids\": layer}\n",
    "    \n",
    "    url = 'https://cle.api.here.com/2/search/proximity.json'\n",
    "    \n",
    "    respond = requests.get(url, params=params)\n",
    "    jdata = respond.json()\n",
    "    points = list()\n",
    "    for item in jdata[\"geometries\"]:\n",
    "        mpoint = item[\"geometry\"]\n",
    "        mpoint = str(str(mpoint.split('((')[1]).split('))')[0])\n",
    "        mpoint = mpoint.split(' ')\n",
    "        points.append([float(mpoint[1]),float(mpoint[0])])\n",
    "    return points\n",
    "    "
   ]
  },
  {
   "cell_type": "code",
   "execution_count": 110,
   "metadata": {},
   "outputs": [
    {
     "data": {
      "text/html": [
       "<div style=\"width:100%;\"><div style=\"position:relative;width:100%;height:0;padding-bottom:60%;\"><iframe src=\"data:text/html;charset=utf-8;base64,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\" style=\"position:absolute;width:100%;height:100%;left:0;top:0;border:none !important;\" allowfullscreen webkitallowfullscreen mozallowfullscreen></iframe></div></div>"
      ],
      "text/plain": [
       "<folium.folium.Map at 0xd1119f0>"
      ]
     },
     "execution_count": 110,
     "metadata": {},
     "output_type": "execute_result"
    }
   ],
   "source": [
    "# Create a HERE tiles\n",
    "tiles_url = hereTilesUrl()\n",
    "\n",
    "# Initialize the map object\n",
    "map = folium.Map(location=[59.925658, 30.331779],  \n",
    "               zoom_start=11, \n",
    "               tiles=tiles_url, \n",
    "               attr='here.com'\n",
    "               )\n",
    "\n",
    "# Get all locations for layer from Custom Locations API\n",
    "locations = getCustomLocations('59.925658, 30.331779',10000,'TEST_LAYER')\n",
    "\n",
    "# Just an icon\n",
    "iurl = 'https://img.icons8.com/doodle/48/000000/building--v2.png'\n",
    "\n",
    "# Add points to map\n",
    "for i in locations:\n",
    "    folium.Marker(i, icon=folium.features.CustomIcon(iurl, icon_size=(35,35))).add_to(map)\n",
    "\n",
    "# Show the map    \n",
    "map"
   ]
  },
  {
   "cell_type": "code",
   "execution_count": null,
   "metadata": {},
   "outputs": [],
   "source": []
  }
 ],
 "metadata": {
  "kernelspec": {
   "display_name": "Python 3",
   "language": "python",
   "name": "python3"
  },
  "language_info": {
   "codemirror_mode": {
    "name": "ipython",
    "version": 3
   },
   "file_extension": ".py",
   "mimetype": "text/x-python",
   "name": "python",
   "nbconvert_exporter": "python",
   "pygments_lexer": "ipython3",
   "version": "3.7.3"
  }
 },
 "nbformat": 4,
 "nbformat_minor": 2
}
