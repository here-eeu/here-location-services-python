{
 "cells": [
  {
   "cell_type": "code",
   "execution_count": 23,
   "metadata": {},
   "outputs": [],
   "source": [
    "import folium\n",
    "import json\n",
    "import requests"
   ]
  },
  {
   "cell_type": "markdown",
   "metadata": {},
   "source": [
    "Функция для постройки тайлов для HERE Map"
   ]
  },
  {
   "cell_type": "code",
   "execution_count": 7,
   "metadata": {},
   "outputs": [],
   "source": [
    "def hereTilesUrl(**kwdict):\n",
    "    \"\"\"\n",
    "    Return a HERE map tiles URL, based on default values that can be \n",
    "    overwritten by kwdict.\n",
    "    \"\"\"\n",
    "    params = dict(app_id     = \"F0yOSNe0MvYg5IHdvFBM\",\n",
    "                  app_code   = \"ebrwlGni0s3mGc6hX27Kvg\",\n",
    "                  scheme     = 'reduced.day',\n",
    "                  tilesize   = '256',\n",
    "                  tileformat = 'png8',\n",
    "                  lg         = 'rus',\n",
    "                  x          = '{x}',\n",
    "                  y          = '{y}',\n",
    "                  z          = '{z}',)\n",
    "\n",
    "    params.update(kwdict)\n",
    "\n",
    "    url = ('https://2.base.maps.api.here.com/maptile/2.1/maptile/newest/{scheme}/'\n",
    "           '{z}/{x}/{y}/{tilesize}/{tileformat}'\n",
    "           '?lg={lg}&app_id={app_id}&app_code={app_code}'\n",
    "            ).format(**params)\n",
    "    return url"
   ]
  },
  {
   "cell_type": "code",
   "execution_count": 28,
   "metadata": {},
   "outputs": [],
   "source": [
    "def getCustomLocations(loc,rad,layer):\n",
    "    \"\"\"\n",
    "    \"\"\"\n",
    "    params = {\"app_id\": \"F0yOSNe0MvYg5IHdvFBM\",\n",
    "              \"app_code\": \"ebrwlGni0s3mGc6hX27Kvg\",\n",
    "              \"proximity\": \"{0},{1}\".format(loc,rad),\n",
    "              \"layer_ids\": layer}\n",
    "    \n",
    "    url = 'https://cle.api.here.com/2/search/proximity.json'\n",
    "    \n",
    "    respond = requests.get(url, params=params)\n",
    "    jdata = respond.json()\n",
    "    points = list()\n",
    "    for item in jdata[\"geometries\"]:\n",
    "        points.append(item[\"attributes\"][\"geometry\"])\n",
    "    return points\n",
    "    "
   ]
  },
  {
   "cell_type": "code",
   "execution_count": 29,
   "metadata": {},
   "outputs": [],
   "source": [
    "tiles_url = hereTilesUrl()\n",
    "\n",
    "m = folium.Map(location=[59.925658, 30.331779],  \n",
    "               zoom_start=12, \n",
    "               tiles=tiles_url, \n",
    "               attr='here.com'\n",
    "               )"
   ]
  },
  {
   "cell_type": "code",
   "execution_count": 30,
   "metadata": {},
   "outputs": [
    {
     "ename": "KeyError",
     "evalue": "'geometry'",
     "output_type": "error",
     "traceback": [
      "\u001b[1;31m---------------------------------------------------------------------------\u001b[0m",
      "\u001b[1;31mKeyError\u001b[0m                                  Traceback (most recent call last)",
      "\u001b[1;32m<ipython-input-30-05879e462aee>\u001b[0m in \u001b[0;36m<module>\u001b[1;34m\u001b[0m\n\u001b[1;32m----> 1\u001b[1;33m \u001b[0mgetCustomLocations\u001b[0m\u001b[1;33m(\u001b[0m\u001b[1;34m'59.925658, 30.331779'\u001b[0m\u001b[1;33m,\u001b[0m\u001b[1;36m10000\u001b[0m\u001b[1;33m,\u001b[0m\u001b[1;34m'TEST_LAYER'\u001b[0m\u001b[1;33m)\u001b[0m\u001b[1;33m\u001b[0m\u001b[1;33m\u001b[0m\u001b[0m\n\u001b[0m",
      "\u001b[1;32m<ipython-input-28-10879bf127a2>\u001b[0m in \u001b[0;36mgetCustomLocations\u001b[1;34m(loc, rad, layer)\u001b[0m\n\u001b[0;32m     13\u001b[0m     \u001b[0mpoints\u001b[0m \u001b[1;33m=\u001b[0m \u001b[0mlist\u001b[0m\u001b[1;33m(\u001b[0m\u001b[1;33m)\u001b[0m\u001b[1;33m\u001b[0m\u001b[1;33m\u001b[0m\u001b[0m\n\u001b[0;32m     14\u001b[0m     \u001b[1;32mfor\u001b[0m \u001b[0mitem\u001b[0m \u001b[1;32min\u001b[0m \u001b[0mjdata\u001b[0m\u001b[1;33m[\u001b[0m\u001b[1;34m\"geometries\"\u001b[0m\u001b[1;33m]\u001b[0m\u001b[1;33m:\u001b[0m\u001b[1;33m\u001b[0m\u001b[1;33m\u001b[0m\u001b[0m\n\u001b[1;32m---> 15\u001b[1;33m         \u001b[0mpoints\u001b[0m\u001b[1;33m.\u001b[0m\u001b[0mappend\u001b[0m\u001b[1;33m(\u001b[0m\u001b[0mitem\u001b[0m\u001b[1;33m[\u001b[0m\u001b[1;34m\"attributes\"\u001b[0m\u001b[1;33m]\u001b[0m\u001b[1;33m[\u001b[0m\u001b[1;34m\"geometry\"\u001b[0m\u001b[1;33m]\u001b[0m\u001b[1;33m)\u001b[0m\u001b[1;33m\u001b[0m\u001b[1;33m\u001b[0m\u001b[0m\n\u001b[0m\u001b[0;32m     16\u001b[0m     \u001b[1;32mreturn\u001b[0m \u001b[0mpoints\u001b[0m\u001b[1;33m\u001b[0m\u001b[1;33m\u001b[0m\u001b[0m\n\u001b[0;32m     17\u001b[0m \u001b[1;33m\u001b[0m\u001b[0m\n",
      "\u001b[1;31mKeyError\u001b[0m: 'geometry'"
     ]
    }
   ],
   "source": [
    "getCustomLocations('59.925658, 30.331779',10000,'TEST_LAYER')"
   ]
  },
  {
   "cell_type": "code",
   "execution_count": null,
   "metadata": {},
   "outputs": [],
   "source": []
  }
 ],
 "metadata": {
  "kernelspec": {
   "display_name": "Python 3",
   "language": "python",
   "name": "python3"
  },
  "language_info": {
   "codemirror_mode": {
    "name": "ipython",
    "version": 3
   },
   "file_extension": ".py",
   "mimetype": "text/x-python",
   "name": "python",
   "nbconvert_exporter": "python",
   "pygments_lexer": "ipython3",
   "version": "3.7.3"
  }
 },
 "nbformat": 4,
 "nbformat_minor": 2
}
